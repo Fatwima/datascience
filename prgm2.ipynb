{
 "cells": [
  {
   "cell_type": "code",
   "execution_count": 1,
   "id": "11d1b0e4",
   "metadata": {},
   "outputs": [
    {
     "name": "stdout",
     "output_type": "stream",
     "text": [
      "matrix 1 : \n",
      " [[2 4 6]\n",
      " [8 1 2]\n",
      " [4 3 5]]\n",
      "matrix 2 : \n",
      " [[1 3 5]\n",
      " [7 5 6]\n",
      " [1 2 4]]\n",
      "After Matrix Multiplication :\n",
      " [[36 38 58]\n",
      " [17 33 54]\n",
      " [30 37 58]]\n"
     ]
    }
   ],
   "source": [
    "import numpy as np\n",
    "arr1=np.array([2,4,6,8,1,2,4,3,5]).reshape(3,3)\n",
    "print(\"matrix 1 : \\n\", arr1)\n",
    "arr2=np.array([1,3,5,7,5,6,1,2,4]).reshape(3,3)\n",
    "print(\"matrix 2 : \\n\",arr2)\n",
    "arr3=np.dot(arr1,arr2)\n",
    "print(\"After Matrix Multiplication :\\n\",arr3)"
   ]
  },
  {
   "cell_type": "code",
   "execution_count": null,
   "id": "a2cdbca9",
   "metadata": {},
   "outputs": [],
   "source": []
  }
 ],
 "metadata": {
  "kernelspec": {
   "display_name": "Python 3 (ipykernel)",
   "language": "python",
   "name": "python3"
  },
  "language_info": {
   "codemirror_mode": {
    "name": "ipython",
    "version": 3
   },
   "file_extension": ".py",
   "mimetype": "text/x-python",
   "name": "python",
   "nbconvert_exporter": "python",
   "pygments_lexer": "ipython3",
   "version": "3.7.11"
  }
 },
 "nbformat": 4,
 "nbformat_minor": 5
}
