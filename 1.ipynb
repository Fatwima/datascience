{
 "cells": [
  {
   "cell_type": "code",
   "execution_count": 1,
   "metadata": {},
   "outputs": [
    {
     "name": "stdout",
     "output_type": "stream",
     "text": [
      "SIMPLE CALCULATOR\n",
      "enter first number 2\n",
      "enter second number 3\n",
      "1.Addition\n",
      "2.Substraction\n",
      "3.Multiplication\n",
      "4.Division\n",
      "5.exit\n",
      "Enter your choice 1\n",
      "The sum  5\n",
      "Enter your choice 2\n",
      "The substacted value  -1\n",
      "Enter your choice 3\n",
      "The multiplied value  6\n",
      "Enter your choice 4\n",
      "divided result is  0.6666666666666666\n",
      "Enter your choice 6\n",
      "invalid.....option\n",
      "Enter your choice 5\n",
      "exiting\n"
     ]
    }
   ],
   "source": [
    "print(\"SIMPLE CALCULATOR\")\n",
    "\n",
    "a=int(input(\"enter first number \"))\n",
    "b=int(input(\"enter second number \"))\n",
    "\n",
    "print('1.Addition')\n",
    "print('2.Substraction')\n",
    "print('3.Multiplication')\n",
    "print('4.Division')\n",
    "print('5.exit')\n",
    "while(1):\n",
    "        \n",
    "        ch=input (\"Enter your choice \")\n",
    "\n",
    "        \n",
    "        # operations     \n",
    "        if ch=='1':\n",
    "               print('The sum ',a+b )\n",
    "        elif ch=='2':\n",
    "                print('The substacted value ', a-b)\n",
    "\n",
    "        elif ch=='3':\n",
    "                \n",
    "                print('The multiplied value ', a*b)\n",
    "\n",
    "        elif ch=='4':\n",
    "                if b==0:\n",
    "                    print('Not allowed ' )\n",
    "                else:\n",
    "                    print('divided result is ',a/b)\n",
    "        elif ch=='5': \n",
    "            print('exiting')\n",
    "            break \n",
    "        else:\n",
    "            print('invalid.....option')"
   ]
  },
  {
   "cell_type": "markdown",
   "metadata": {},
   "source": [
    "### "
   ]
  }
 ],
 "metadata": {
  "kernelspec": {
   "display_name": "Python 3",
   "language": "python",
   "name": "python3"
  },
  "language_info": {
   "codemirror_mode": {
    "name": "ipython",
    "version": 3
   },
   "file_extension": ".py",
   "mimetype": "text/x-python",
   "name": "python",
   "nbconvert_exporter": "python",
   "pygments_lexer": "ipython3",
   "version": "3.6.3"
  }
 },
 "nbformat": 4,
 "nbformat_minor": 2
}
