{
 "cells": [
  {
   "cell_type": "code",
   "execution_count": 1,
   "id": "cecc833a",
   "metadata": {},
   "outputs": [
    {
     "name": "stdout",
     "output_type": "stream",
     "text": [
      "[[2 4]\n",
      " [1 2]]\n",
      "U=m*m \n",
      "  [[-0.89442719 -0.4472136 ]\n",
      " [-0.4472136   0.89442719]]\n",
      "s=m*n \n",
      "  [5. 0.]\n",
      "VT=n*n \n",
      "  [[-0.4472136  -0.89442719]\n",
      " [-0.89442719  0.4472136 ]]\n",
      "[[2. 4.]\n",
      " [1. 2.]]\n"
     ]
    }
   ],
   "source": [
    "import numpy as np\n",
    "from scipy.linalg import svd\n",
    "m1=np.array([[2,4],[1,2]])\n",
    "print(m1)\n",
    "U,s,VT=svd(m1)\n",
    "print(\"U=m*m \\n \",U)\n",
    "print(\"s=m*n \\n \",s)\n",
    "print(\"VT=n*n \\n \",VT)\n",
    "print(U @ np.diag(s) @ VT)"
   ]
  },
  {
   "cell_type": "code",
   "execution_count": null,
   "id": "90d6d797",
   "metadata": {},
   "outputs": [],
   "source": []
  }
 ],
 "metadata": {
  "kernelspec": {
   "display_name": "Python 3 (ipykernel)",
   "language": "python",
   "name": "python3"
  },
  "language_info": {
   "codemirror_mode": {
    "name": "ipython",
    "version": 3
   },
   "file_extension": ".py",
   "mimetype": "text/x-python",
   "name": "python",
   "nbconvert_exporter": "python",
   "pygments_lexer": "ipython3",
   "version": "3.7.11"
  }
 },
 "nbformat": 4,
 "nbformat_minor": 5
}
