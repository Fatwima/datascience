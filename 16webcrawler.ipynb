{
  "nbformat": 4,
  "nbformat_minor": 0,
  "metadata": {
    "colab": {
      "provenance": [],
      "authorship_tag": "ABX9TyO4WXrenXmAlWqW/N3cAlzi",
      "include_colab_link": true
    },
    "kernelspec": {
      "name": "python3",
      "display_name": "Python 3"
    },
    "language_info": {
      "name": "python"
    }
  },
  "cells": [
    {
      "cell_type": "markdown",
      "metadata": {
        "id": "view-in-github",
        "colab_type": "text"
      },
      "source": [
        "<a href=\"https://colab.research.google.com/github/Fatwima/datascience/blob/main/16webcrawler.ipynb\" target=\"_parent\"><img src=\"https://colab.research.google.com/assets/colab-badge.svg\" alt=\"Open In Colab\"/></a>"
      ]
    },
    {
      "cell_type": "code",
      "execution_count": 2,
      "metadata": {
        "colab": {
          "base_uri": "https://localhost:8080/"
        },
        "id": "-UCmaCWIqlot",
        "outputId": "8e5a1473-76ee-4f6e-a67e-5f32662c6856"
      },
      "outputs": [
        {
          "output_type": "stream",
          "name": "stdout",
          "text": [
            "error\n"
          ]
        }
      ],
      "source": [
        "from bs4 import BeautifulSoup\n",
        "import requests\n",
        "import numpy as np\n",
        "import re\n",
        "import time\n",
        "\n",
        "np.random.seed(int(time.time()))\n",
        "pages_crawled = []\n",
        "\n",
        "\n",
        "def random_crawler(url):\n",
        "    page = requests.get(url)\n",
        "    soup = BeautifulSoup(page.text, 'html.parser')\n",
        "    links = soup.find_all('a', {'href': re.compile('^\\/wiki\\/((?!:).)*$')})\n",
        "    link = links[np.random.randint(1, len(links) + 1)]\n",
        "\n",
        "    if link not in pages_crawled:\n",
        "        pages_crawled.append(link)\n",
        "        new_link = f\"https://en.wikipedia.org{link['href']}\"\n",
        "        try:\n",
        "            with open('data.csv', 'a') as file:\n",
        "                file.write(f'{soup.title.text}; {soup.h1.text}; {link[\"href\"]}\\n')\n",
        "            random_crawler(new_link)\n",
        "        except:\n",
        "             print(\"error\")\n",
        "            \n",
        "  \n",
        "random_crawler('https://en.wikipedia.org')\n",
        "\n"
      ]
    }
  ]
}